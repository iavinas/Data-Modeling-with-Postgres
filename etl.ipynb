{
 "cells": [
  {
   "cell_type": "markdown",
   "metadata": {},
   "source": [
    "# ETL Processes\n",
    "Use this notebook to develop the ETL process for each of your tables before completing the `etl.py` file to load the whole datasets."
   ]
  },
  {
   "cell_type": "code",
   "execution_count": 1,
   "metadata": {},
   "outputs": [],
   "source": [
    "import os\n",
    "import glob\n",
    "import psycopg2\n",
    "import pandas as pd\n",
    "import json\n",
    "from sql_queries import *"
   ]
  },
  {
   "cell_type": "code",
   "execution_count": 3,
   "metadata": {},
   "outputs": [],
   "source": [
    "conn = psycopg2.connect(\"host=127.0.0.1 dbname=sparkifydb user=student password=student\")\n",
    "cur = conn.cursor()"
   ]
  },
  {
   "cell_type": "code",
   "execution_count": 4,
   "metadata": {},
   "outputs": [],
   "source": [
    "def get_files(filepath):\n",
    "    all_files = []\n",
    "    for root, dirs, files in os.walk(filepath):\n",
    "        files = glob.glob(os.path.join(root,'*.json'))\n",
    "        for f in files :\n",
    "            all_files.append(os.path.abspath(f))\n",
    "    \n",
    "    return all_files"
   ]
  },
  {
   "cell_type": "markdown",
   "metadata": {},
   "source": [
    "# Process `song_data`\n",
    "In this first part, you'll perform ETL on the first dataset, `song_data`, to create the `songs` and `artists` dimensional tables.\n",
    "\n",
    "Let's perform ETL on a single song file and load a single record into each table to start.\n",
    "- Use the `get_files` function provided above to get a list of all song JSON files in `data/song_data`\n",
    "- Select the first song in this list\n",
    "- Read the song file and view the data"
   ]
  },
  {
   "cell_type": "code",
   "execution_count": 5,
   "metadata": {},
   "outputs": [],
   "source": [
    "song_files = get_files('data/song_data/')"
   ]
  },
  {
   "cell_type": "code",
   "execution_count": null,
   "metadata": {},
   "outputs": [],
   "source": []
  },
  {
   "cell_type": "code",
   "execution_count": 6,
   "metadata": {},
   "outputs": [
    {
     "output_type": "execute_result",
     "data": {
      "text/plain": "'/home/ak/c2/project1/data/song_data/A/A/C/TRAACPE128F421C1B9.json'"
     },
     "metadata": {},
     "execution_count": 6
    }
   ],
   "source": [
    "filepath = song_files[0]\n",
    "filepath"
   ]
  },
  {
   "cell_type": "code",
   "execution_count": 7,
   "metadata": {},
   "outputs": [
    {
     "output_type": "execute_result",
     "data": {
      "text/plain": "   num_songs           artist_id  artist_latitude  artist_longitude  \\\n0          1  ARB29H41187B98F0EF         41.88415         -87.63241   \n\n  artist_location    artist_name             song_id  \\\n0         Chicago  Terry Callier  SOGNCJP12A58A80271   \n\n                          title   duration  year  \n0  Do You Finally Need A Friend  342.56934  1972  ",
      "text/html": "<div>\n<style scoped>\n    .dataframe tbody tr th:only-of-type {\n        vertical-align: middle;\n    }\n\n    .dataframe tbody tr th {\n        vertical-align: top;\n    }\n\n    .dataframe thead th {\n        text-align: right;\n    }\n</style>\n<table border=\"1\" class=\"dataframe\">\n  <thead>\n    <tr style=\"text-align: right;\">\n      <th></th>\n      <th>num_songs</th>\n      <th>artist_id</th>\n      <th>artist_latitude</th>\n      <th>artist_longitude</th>\n      <th>artist_location</th>\n      <th>artist_name</th>\n      <th>song_id</th>\n      <th>title</th>\n      <th>duration</th>\n      <th>year</th>\n    </tr>\n  </thead>\n  <tbody>\n    <tr>\n      <th>0</th>\n      <td>1</td>\n      <td>ARB29H41187B98F0EF</td>\n      <td>41.88415</td>\n      <td>-87.63241</td>\n      <td>Chicago</td>\n      <td>Terry Callier</td>\n      <td>SOGNCJP12A58A80271</td>\n      <td>Do You Finally Need A Friend</td>\n      <td>342.56934</td>\n      <td>1972</td>\n    </tr>\n  </tbody>\n</table>\n</div>"
     },
     "metadata": {},
     "execution_count": 7
    }
   ],
   "source": [
    "df = pd.DataFrame(pd.read_json( filepath,lines=True, orient='columns'))\n",
    "df.head()"
   ]
  },
  {
   "cell_type": "markdown",
   "metadata": {},
   "source": [
    "## #1: `songs` Table\n",
    "#### Extract Data for Songs Table\n",
    "- Select columns for song ID, title, artist ID, year, and duration\n",
    "- Use `df.values` to select just the values from the dataframe\n",
    "- Index to select the first (only) record in the dataframe\n",
    "- Convert the array to a list and set it to `song_data`"
   ]
  },
  {
   "cell_type": "code",
   "execution_count": 8,
   "metadata": {},
   "outputs": [
    {
     "output_type": "execute_result",
     "data": {
      "text/plain": "['SOGNCJP12A58A80271',\n 'Do You Finally Need A Friend',\n 'ARB29H41187B98F0EF',\n 342.56934]"
     },
     "metadata": {},
     "execution_count": 8
    }
   ],
   "source": [
    "song_data = df[['song_id', 'title', 'artist_id', 'duration']].values.tolist()[0]\n",
    "song_data"
   ]
  },
  {
   "cell_type": "markdown",
   "metadata": {},
   "source": [
    "#### Insert Record into Song Table\n",
    "Implement the `song_table_insert` query in `sql_queries.py` and run the cell below to insert a record for this song into the `songs` table. Remember to run `create_tables.py` before running the cell below to ensure you've created/resetted the `songs` table in the sparkify database."
   ]
  },
  {
   "cell_type": "code",
   "execution_count": 9,
   "metadata": {},
   "outputs": [
    {
     "output_type": "error",
     "ename": "SyntaxError",
     "evalue": "syntax error at or near \"'song_id'\"\nLINE 2: INSERT INTO songs ('song_id', 'title', 'artist_id', 'duratio...\n                           ^\n",
     "traceback": [
      "\u001b[0;31m---------------------------------------------------------------------------\u001b[0m",
      "\u001b[0;31mSyntaxError\u001b[0m                               Traceback (most recent call last)",
      "\u001b[0;32m<ipython-input-9-0c375ac7939b>\u001b[0m in \u001b[0;36m<module>\u001b[0;34m\u001b[0m\n\u001b[0;32m----> 1\u001b[0;31m \u001b[0mcur\u001b[0m\u001b[0;34m.\u001b[0m\u001b[0mexecute\u001b[0m\u001b[0;34m(\u001b[0m\u001b[0msong_table_insert\u001b[0m\u001b[0;34m,\u001b[0m \u001b[0msong_data\u001b[0m\u001b[0;34m)\u001b[0m\u001b[0;34m\u001b[0m\u001b[0;34m\u001b[0m\u001b[0m\n\u001b[0m\u001b[1;32m      2\u001b[0m \u001b[0mconn\u001b[0m\u001b[0;34m.\u001b[0m\u001b[0mcommit\u001b[0m\u001b[0;34m(\u001b[0m\u001b[0;34m)\u001b[0m\u001b[0;34m\u001b[0m\u001b[0;34m\u001b[0m\u001b[0m\n",
      "\u001b[0;31mSyntaxError\u001b[0m: syntax error at or near \"'song_id'\"\nLINE 2: INSERT INTO songs ('song_id', 'title', 'artist_id', 'duratio...\n                           ^\n"
     ]
    }
   ],
   "source": [
    "cur.execute(song_table_insert, song_data)\n",
    "conn.commit()"
   ]
  },
  {
   "cell_type": "code",
   "execution_count": null,
   "metadata": {},
   "outputs": [],
   "source": []
  },
  {
   "cell_type": "markdown",
   "metadata": {},
   "source": [
    "Run `test.ipynb` to see if you've successfully added a record to this table."
   ]
  },
  {
   "cell_type": "markdown",
   "metadata": {},
   "source": [
    "## #2: `artists` Table\n",
    "#### Extract Data for Artists Table\n",
    "- Select columns for artist ID, name, location, latitude, and longitude\n",
    "- Use `df.values` to select just the values from the dataframe\n",
    "- Index to select the first (only) record in the dataframe\n",
    "- Convert the array to a list and set it to `artist_data`"
   ]
  },
  {
   "cell_type": "code",
   "execution_count": 11,
   "metadata": {},
   "outputs": [
    {
     "output_type": "execute_result",
     "data": {
      "text/plain": "Index(['num_songs', 'artist_id', 'artist_latitude', 'artist_longitude',\n       'artist_location', 'artist_name', 'song_id', 'title', 'duration',\n       'year'],\n      dtype='object')"
     },
     "metadata": {},
     "execution_count": 11
    }
   ],
   "source": [
    "df.columns"
   ]
  },
  {
   "cell_type": "code",
   "execution_count": 12,
   "metadata": {},
   "outputs": [
    {
     "output_type": "execute_result",
     "data": {
      "text/plain": "['ARB29H41187B98F0EF', 'Terry Callier', 'Chicago', 41.88415, -87.63241]"
     },
     "metadata": {},
     "execution_count": 12
    }
   ],
   "source": [
    "artist_data = df[['artist_id', 'artist_name', 'artist_location', 'artist_latitude', 'artist_longitude']].values.tolist()[0]\n",
    "artist_data"
   ]
  },
  {
   "cell_type": "markdown",
   "metadata": {},
   "source": [
    "#### Insert Record into Artist Table\n",
    "Implement the `artist_table_insert` query in `sql_queries.py` and run the cell below to insert a record for this song's artist into the `artists` table. Remember to run `create_tables.py` before running the cell below to ensure you've created/resetted the `artists` table in the sparkify database."
   ]
  },
  {
   "cell_type": "code",
   "execution_count": 13,
   "metadata": {},
   "outputs": [
    {
     "output_type": "error",
     "ename": "InFailedSqlTransaction",
     "evalue": "current transaction is aborted, commands ignored until end of transaction block\n",
     "traceback": [
      "\u001b[0;31m---------------------------------------------------------------------------\u001b[0m",
      "\u001b[0;31mInFailedSqlTransaction\u001b[0m                    Traceback (most recent call last)",
      "\u001b[0;32m<ipython-input-13-d33ab965a1ab>\u001b[0m in \u001b[0;36m<module>\u001b[0;34m\u001b[0m\n\u001b[0;32m----> 1\u001b[0;31m \u001b[0mcur\u001b[0m\u001b[0;34m.\u001b[0m\u001b[0mexecute\u001b[0m\u001b[0;34m(\u001b[0m\u001b[0martist_table_insert\u001b[0m\u001b[0;34m,\u001b[0m \u001b[0martist_data\u001b[0m\u001b[0;34m)\u001b[0m\u001b[0;34m\u001b[0m\u001b[0;34m\u001b[0m\u001b[0m\n\u001b[0m\u001b[1;32m      2\u001b[0m \u001b[0mconn\u001b[0m\u001b[0;34m.\u001b[0m\u001b[0mcommit\u001b[0m\u001b[0;34m(\u001b[0m\u001b[0;34m)\u001b[0m\u001b[0;34m\u001b[0m\u001b[0;34m\u001b[0m\u001b[0m\n",
      "\u001b[0;31mInFailedSqlTransaction\u001b[0m: current transaction is aborted, commands ignored until end of transaction block\n"
     ]
    }
   ],
   "source": [
    "cur.execute(artist_table_insert, artist_data)\n",
    "conn.commit()"
   ]
  },
  {
   "cell_type": "markdown",
   "metadata": {},
   "source": [
    "Run `test.ipynb` to see if you've successfully added a record to this table."
   ]
  },
  {
   "cell_type": "markdown",
   "metadata": {},
   "source": [
    "# Process `log_data`\n",
    "In this part, you'll perform ETL on the second dataset, `log_data`, to create the `time` and `users` dimensional tables, as well as the `songplays` fact table.\n",
    "\n",
    "Let's perform ETL on a single log file and load a single record into each table.\n",
    "- Use the `get_files` function provided above to get a list of all log JSON files in `data/log_data`\n",
    "- Select the first log file in this list\n",
    "- Read the log file and view the data"
   ]
  },
  {
   "cell_type": "code",
   "execution_count": 14,
   "metadata": {},
   "outputs": [],
   "source": [
    "log_files = get_files('data/log_data/')"
   ]
  },
  {
   "cell_type": "code",
   "execution_count": 15,
   "metadata": {},
   "outputs": [],
   "source": [
    "filepath = log_files[0]"
   ]
  },
  {
   "cell_type": "code",
   "execution_count": 16,
   "metadata": {},
   "outputs": [
    {
     "output_type": "execute_result",
     "data": {
      "text/plain": "                      artist       auth firstName gender  itemInSession  \\\n0  N.E.R.D. FEATURING MALICE  Logged In    Jayden      M              0   \n1                       None  Logged In   Stefany      F              0   \n2        Death Cab for Cutie  Logged In   Stefany      F              1   \n3           Tracy Gang Pussy  Logged In   Stefany      F              2   \n4                    Skillet  Logged In     Kevin      M              0   \n\n   lastName     length level                  location method      page  \\\n0       Fox  288.99220  free  New Orleans-Metairie, LA    PUT  NextSong   \n1     White        NaN  free               Lubbock, TX    GET      Home   \n2     White  216.42404  free               Lubbock, TX    PUT  NextSong   \n3     White  221.33506  free               Lubbock, TX    PUT  NextSong   \n4  Arellano  178.02404  free   Harrisburg-Carlisle, PA    PUT  NextSong   \n\n    registration  sessionId                             song  status  \\\n0  1541033612796        184         Am I High (Feat. Malice)     200   \n1  1540708070796         82                             None     200   \n2  1540708070796         82  A Lack Of Color (Album Version)     200   \n3  1540708070796         82                    I Have A Wish     200   \n4  1540006905796        153          Monster (Album Version)     200   \n\n              ts                                          userAgent  userId  \n0  1541121934796  \"Mozilla/5.0 (Windows NT 6.3; WOW64) AppleWebK...     101  \n1  1541122176796  \"Mozilla/5.0 (Macintosh; Intel Mac OS X 10_9_4...      83  \n2  1541122241796  \"Mozilla/5.0 (Macintosh; Intel Mac OS X 10_9_4...      83  \n3  1541122457796  \"Mozilla/5.0 (Macintosh; Intel Mac OS X 10_9_4...      83  \n4  1541126568796  \"Mozilla/5.0 (Macintosh; Intel Mac OS X 10_9_4...      66  ",
      "text/html": "<div>\n<style scoped>\n    .dataframe tbody tr th:only-of-type {\n        vertical-align: middle;\n    }\n\n    .dataframe tbody tr th {\n        vertical-align: top;\n    }\n\n    .dataframe thead th {\n        text-align: right;\n    }\n</style>\n<table border=\"1\" class=\"dataframe\">\n  <thead>\n    <tr style=\"text-align: right;\">\n      <th></th>\n      <th>artist</th>\n      <th>auth</th>\n      <th>firstName</th>\n      <th>gender</th>\n      <th>itemInSession</th>\n      <th>lastName</th>\n      <th>length</th>\n      <th>level</th>\n      <th>location</th>\n      <th>method</th>\n      <th>page</th>\n      <th>registration</th>\n      <th>sessionId</th>\n      <th>song</th>\n      <th>status</th>\n      <th>ts</th>\n      <th>userAgent</th>\n      <th>userId</th>\n    </tr>\n  </thead>\n  <tbody>\n    <tr>\n      <th>0</th>\n      <td>N.E.R.D. FEATURING MALICE</td>\n      <td>Logged In</td>\n      <td>Jayden</td>\n      <td>M</td>\n      <td>0</td>\n      <td>Fox</td>\n      <td>288.99220</td>\n      <td>free</td>\n      <td>New Orleans-Metairie, LA</td>\n      <td>PUT</td>\n      <td>NextSong</td>\n      <td>1541033612796</td>\n      <td>184</td>\n      <td>Am I High (Feat. Malice)</td>\n      <td>200</td>\n      <td>1541121934796</td>\n      <td>\"Mozilla/5.0 (Windows NT 6.3; WOW64) AppleWebK...</td>\n      <td>101</td>\n    </tr>\n    <tr>\n      <th>1</th>\n      <td>None</td>\n      <td>Logged In</td>\n      <td>Stefany</td>\n      <td>F</td>\n      <td>0</td>\n      <td>White</td>\n      <td>NaN</td>\n      <td>free</td>\n      <td>Lubbock, TX</td>\n      <td>GET</td>\n      <td>Home</td>\n      <td>1540708070796</td>\n      <td>82</td>\n      <td>None</td>\n      <td>200</td>\n      <td>1541122176796</td>\n      <td>\"Mozilla/5.0 (Macintosh; Intel Mac OS X 10_9_4...</td>\n      <td>83</td>\n    </tr>\n    <tr>\n      <th>2</th>\n      <td>Death Cab for Cutie</td>\n      <td>Logged In</td>\n      <td>Stefany</td>\n      <td>F</td>\n      <td>1</td>\n      <td>White</td>\n      <td>216.42404</td>\n      <td>free</td>\n      <td>Lubbock, TX</td>\n      <td>PUT</td>\n      <td>NextSong</td>\n      <td>1540708070796</td>\n      <td>82</td>\n      <td>A Lack Of Color (Album Version)</td>\n      <td>200</td>\n      <td>1541122241796</td>\n      <td>\"Mozilla/5.0 (Macintosh; Intel Mac OS X 10_9_4...</td>\n      <td>83</td>\n    </tr>\n    <tr>\n      <th>3</th>\n      <td>Tracy Gang Pussy</td>\n      <td>Logged In</td>\n      <td>Stefany</td>\n      <td>F</td>\n      <td>2</td>\n      <td>White</td>\n      <td>221.33506</td>\n      <td>free</td>\n      <td>Lubbock, TX</td>\n      <td>PUT</td>\n      <td>NextSong</td>\n      <td>1540708070796</td>\n      <td>82</td>\n      <td>I Have A Wish</td>\n      <td>200</td>\n      <td>1541122457796</td>\n      <td>\"Mozilla/5.0 (Macintosh; Intel Mac OS X 10_9_4...</td>\n      <td>83</td>\n    </tr>\n    <tr>\n      <th>4</th>\n      <td>Skillet</td>\n      <td>Logged In</td>\n      <td>Kevin</td>\n      <td>M</td>\n      <td>0</td>\n      <td>Arellano</td>\n      <td>178.02404</td>\n      <td>free</td>\n      <td>Harrisburg-Carlisle, PA</td>\n      <td>PUT</td>\n      <td>NextSong</td>\n      <td>1540006905796</td>\n      <td>153</td>\n      <td>Monster (Album Version)</td>\n      <td>200</td>\n      <td>1541126568796</td>\n      <td>\"Mozilla/5.0 (Macintosh; Intel Mac OS X 10_9_4...</td>\n      <td>66</td>\n    </tr>\n  </tbody>\n</table>\n</div>"
     },
     "metadata": {},
     "execution_count": 16
    }
   ],
   "source": [
    "df = pd.DataFrame(pd.read_json( filepath,lines=True, orient='columns'))\n",
    "df.head()"
   ]
  },
  {
   "cell_type": "code",
   "execution_count": 17,
   "metadata": {},
   "outputs": [],
   "source": [
    "##Some instruction deleted Fill it from Udacity workbook"
   ]
  },
  {
   "cell_type": "code",
   "execution_count": 18,
   "metadata": {},
   "outputs": [
    {
     "output_type": "execute_result",
     "data": {
      "text/plain": "                      artist       auth firstName gender  itemInSession  \\\n0  N.E.R.D. FEATURING MALICE  Logged In    Jayden      M              0   \n2        Death Cab for Cutie  Logged In   Stefany      F              1   \n3           Tracy Gang Pussy  Logged In   Stefany      F              2   \n4                    Skillet  Logged In     Kevin      M              0   \n5          Dance Gavin Dance  Logged In    Marina      F              0   \n\n   lastName     length level                  location method      page  \\\n0       Fox  288.99220  free  New Orleans-Metairie, LA    PUT  NextSong   \n2     White  216.42404  free               Lubbock, TX    PUT  NextSong   \n3     White  221.33506  free               Lubbock, TX    PUT  NextSong   \n4  Arellano  178.02404  free   Harrisburg-Carlisle, PA    PUT  NextSong   \n5    Sutton  218.46159  free               Salinas, CA    PUT  NextSong   \n\n    registration  sessionId                             song  status  \\\n0  1541033612796        184         Am I High (Feat. Malice)     200   \n2  1540708070796         82  A Lack Of Color (Album Version)     200   \n3  1540708070796         82                    I Have A Wish     200   \n4  1540006905796        153          Monster (Album Version)     200   \n5  1541064343796         47     Uneasy Hearts Weigh The Most     200   \n\n              ts                                          userAgent  userId  \n0  1541121934796  \"Mozilla/5.0 (Windows NT 6.3; WOW64) AppleWebK...     101  \n2  1541122241796  \"Mozilla/5.0 (Macintosh; Intel Mac OS X 10_9_4...      83  \n3  1541122457796  \"Mozilla/5.0 (Macintosh; Intel Mac OS X 10_9_4...      83  \n4  1541126568796  \"Mozilla/5.0 (Macintosh; Intel Mac OS X 10_9_4...      66  \n5  1541127957796  \"Mozilla/5.0 (Macintosh; Intel Mac OS X 10_9_4...      48  ",
      "text/html": "<div>\n<style scoped>\n    .dataframe tbody tr th:only-of-type {\n        vertical-align: middle;\n    }\n\n    .dataframe tbody tr th {\n        vertical-align: top;\n    }\n\n    .dataframe thead th {\n        text-align: right;\n    }\n</style>\n<table border=\"1\" class=\"dataframe\">\n  <thead>\n    <tr style=\"text-align: right;\">\n      <th></th>\n      <th>artist</th>\n      <th>auth</th>\n      <th>firstName</th>\n      <th>gender</th>\n      <th>itemInSession</th>\n      <th>lastName</th>\n      <th>length</th>\n      <th>level</th>\n      <th>location</th>\n      <th>method</th>\n      <th>page</th>\n      <th>registration</th>\n      <th>sessionId</th>\n      <th>song</th>\n      <th>status</th>\n      <th>ts</th>\n      <th>userAgent</th>\n      <th>userId</th>\n    </tr>\n  </thead>\n  <tbody>\n    <tr>\n      <th>0</th>\n      <td>N.E.R.D. FEATURING MALICE</td>\n      <td>Logged In</td>\n      <td>Jayden</td>\n      <td>M</td>\n      <td>0</td>\n      <td>Fox</td>\n      <td>288.99220</td>\n      <td>free</td>\n      <td>New Orleans-Metairie, LA</td>\n      <td>PUT</td>\n      <td>NextSong</td>\n      <td>1541033612796</td>\n      <td>184</td>\n      <td>Am I High (Feat. Malice)</td>\n      <td>200</td>\n      <td>1541121934796</td>\n      <td>\"Mozilla/5.0 (Windows NT 6.3; WOW64) AppleWebK...</td>\n      <td>101</td>\n    </tr>\n    <tr>\n      <th>2</th>\n      <td>Death Cab for Cutie</td>\n      <td>Logged In</td>\n      <td>Stefany</td>\n      <td>F</td>\n      <td>1</td>\n      <td>White</td>\n      <td>216.42404</td>\n      <td>free</td>\n      <td>Lubbock, TX</td>\n      <td>PUT</td>\n      <td>NextSong</td>\n      <td>1540708070796</td>\n      <td>82</td>\n      <td>A Lack Of Color (Album Version)</td>\n      <td>200</td>\n      <td>1541122241796</td>\n      <td>\"Mozilla/5.0 (Macintosh; Intel Mac OS X 10_9_4...</td>\n      <td>83</td>\n    </tr>\n    <tr>\n      <th>3</th>\n      <td>Tracy Gang Pussy</td>\n      <td>Logged In</td>\n      <td>Stefany</td>\n      <td>F</td>\n      <td>2</td>\n      <td>White</td>\n      <td>221.33506</td>\n      <td>free</td>\n      <td>Lubbock, TX</td>\n      <td>PUT</td>\n      <td>NextSong</td>\n      <td>1540708070796</td>\n      <td>82</td>\n      <td>I Have A Wish</td>\n      <td>200</td>\n      <td>1541122457796</td>\n      <td>\"Mozilla/5.0 (Macintosh; Intel Mac OS X 10_9_4...</td>\n      <td>83</td>\n    </tr>\n    <tr>\n      <th>4</th>\n      <td>Skillet</td>\n      <td>Logged In</td>\n      <td>Kevin</td>\n      <td>M</td>\n      <td>0</td>\n      <td>Arellano</td>\n      <td>178.02404</td>\n      <td>free</td>\n      <td>Harrisburg-Carlisle, PA</td>\n      <td>PUT</td>\n      <td>NextSong</td>\n      <td>1540006905796</td>\n      <td>153</td>\n      <td>Monster (Album Version)</td>\n      <td>200</td>\n      <td>1541126568796</td>\n      <td>\"Mozilla/5.0 (Macintosh; Intel Mac OS X 10_9_4...</td>\n      <td>66</td>\n    </tr>\n    <tr>\n      <th>5</th>\n      <td>Dance Gavin Dance</td>\n      <td>Logged In</td>\n      <td>Marina</td>\n      <td>F</td>\n      <td>0</td>\n      <td>Sutton</td>\n      <td>218.46159</td>\n      <td>free</td>\n      <td>Salinas, CA</td>\n      <td>PUT</td>\n      <td>NextSong</td>\n      <td>1541064343796</td>\n      <td>47</td>\n      <td>Uneasy Hearts Weigh The Most</td>\n      <td>200</td>\n      <td>1541127957796</td>\n      <td>\"Mozilla/5.0 (Macintosh; Intel Mac OS X 10_9_4...</td>\n      <td>48</td>\n    </tr>\n  </tbody>\n</table>\n</div>"
     },
     "metadata": {},
     "execution_count": 18
    }
   ],
   "source": [
    "df = df[df['page'] == 'NextSong']\n",
    "df.head()"
   ]
  },
  {
   "cell_type": "code",
   "execution_count": null,
   "metadata": {},
   "outputs": [],
   "source": []
  },
  {
   "cell_type": "code",
   "execution_count": 34,
   "metadata": {},
   "outputs": [],
   "source": [
    "df['dt'] = df['ts'].apply(lambda time : pd.Timestamp(time, unit='ms'))"
   ]
  },
  {
   "cell_type": "code",
   "execution_count": 43,
   "metadata": {},
   "outputs": [],
   "source": [
    "time_stamp = df.ts.values\n",
    "hour = df.dt.apply(lambda x : x.hour).values\n",
    "day = df.dt.apply(lambda x : x.day).values\n",
    "week_of_year = df.dt.apply(lambda x : x.weekofyear).values\n",
    "month = df.dt.apply(lambda x : x.month).values\n",
    "year = df.dt.apply(lambda x : x.year).values\n",
    "weekday = df.dt.apply(lambda x : x.day_name()).values"
   ]
  },
  {
   "cell_type": "code",
   "execution_count": 46,
   "metadata": {},
   "outputs": [],
   "source": [
    "time_data = (time_stamp, hour, day, week_of_year, month,year, weekday)\n",
    "column_labels = ('timestamp', 'hour', 'day', 'week_of_year', 'month', 'year', 'weekday')"
   ]
  },
  {
   "cell_type": "code",
   "execution_count": 47,
   "metadata": {},
   "outputs": [
    {
     "output_type": "execute_result",
     "data": {
      "text/plain": "       timestamp  hour  day  week_of_year  month  year weekday\n0  1541121934796     1    2            44     11  2018  Friday\n1  1541122241796     1    2            44     11  2018  Friday\n2  1541122457796     1    2            44     11  2018  Friday\n3  1541126568796     2    2            44     11  2018  Friday\n4  1541127957796     3    2            44     11  2018  Friday",
      "text/html": "<div>\n<style scoped>\n    .dataframe tbody tr th:only-of-type {\n        vertical-align: middle;\n    }\n\n    .dataframe tbody tr th {\n        vertical-align: top;\n    }\n\n    .dataframe thead th {\n        text-align: right;\n    }\n</style>\n<table border=\"1\" class=\"dataframe\">\n  <thead>\n    <tr style=\"text-align: right;\">\n      <th></th>\n      <th>timestamp</th>\n      <th>hour</th>\n      <th>day</th>\n      <th>week_of_year</th>\n      <th>month</th>\n      <th>year</th>\n      <th>weekday</th>\n    </tr>\n  </thead>\n  <tbody>\n    <tr>\n      <th>0</th>\n      <td>1541121934796</td>\n      <td>1</td>\n      <td>2</td>\n      <td>44</td>\n      <td>11</td>\n      <td>2018</td>\n      <td>Friday</td>\n    </tr>\n    <tr>\n      <th>1</th>\n      <td>1541122241796</td>\n      <td>1</td>\n      <td>2</td>\n      <td>44</td>\n      <td>11</td>\n      <td>2018</td>\n      <td>Friday</td>\n    </tr>\n    <tr>\n      <th>2</th>\n      <td>1541122457796</td>\n      <td>1</td>\n      <td>2</td>\n      <td>44</td>\n      <td>11</td>\n      <td>2018</td>\n      <td>Friday</td>\n    </tr>\n    <tr>\n      <th>3</th>\n      <td>1541126568796</td>\n      <td>2</td>\n      <td>2</td>\n      <td>44</td>\n      <td>11</td>\n      <td>2018</td>\n      <td>Friday</td>\n    </tr>\n    <tr>\n      <th>4</th>\n      <td>1541127957796</td>\n      <td>3</td>\n      <td>2</td>\n      <td>44</td>\n      <td>11</td>\n      <td>2018</td>\n      <td>Friday</td>\n    </tr>\n  </tbody>\n</table>\n</div>"
     },
     "metadata": {},
     "execution_count": 47
    }
   ],
   "source": [
    "time_df = pd.DataFrame({col:value for col, value in zip(column_labels, time_data)})\n",
    "time_df.head()"
   ]
  },
  {
   "cell_type": "markdown",
   "metadata": {},
   "source": [
    "#### Insert Records into Time Table\n",
    "Implement the `time_table_insert` query in `sql_queries.py` and run the cell below to insert records for the timestamps in this log file into the `time` table. Remember to run `create_tables.py` before running the cell below to ensure you've created/resetted the `time` table in the sparkify database."
   ]
  },
  {
   "cell_type": "code",
   "execution_count": null,
   "metadata": {},
   "outputs": [],
   "source": [
    "for i, row in time_df.iterrows():\n",
    "    cur.execute(time_table_insert, list(row))\n",
    "    conn.commit()"
   ]
  },
  {
   "cell_type": "markdown",
   "metadata": {},
   "source": [
    "Run `test.ipynb` to see if you've successfully added records to this table."
   ]
  },
  {
   "cell_type": "markdown",
   "metadata": {},
   "source": [
    "## #4: `users` Table\n",
    "#### Extract Data for Users Table\n",
    "- Select columns for user ID, first name, last name, gender and level and set to `user_df`"
   ]
  },
  {
   "cell_type": "code",
   "execution_count": 53,
   "metadata": {},
   "outputs": [
    {
     "data": {
      "text/plain": [
       "Index(['artist', 'auth', 'firstName', 'gender', 'itemInSession', 'lastName',\n",
       "       'length', 'level', 'location', 'method', 'page', 'registration',\n",
       "       'sessionId', 'song', 'status', 'ts', 'userAgent', 'userId',\n",
       "       'timestamp'],\n",
       "      dtype='object')"
      ]
     },
     "execution_count": 53,
     "metadata": {},
     "output_type": "execute_result"
    }
   ],
   "source": [
    "df.columns"
   ]
  },
  {
   "cell_type": "code",
   "execution_count": 48,
   "metadata": {},
   "outputs": [],
   "source": [
    "user_df = df[['userId', 'firstName', 'lastName', 'gender']]\n",
    "user_df = user_df.drop_duplicate(subset='userId')"
   ]
  },
  {
   "cell_type": "markdown",
   "metadata": {},
   "source": [
    "#### Insert Records into Users Table\n",
    "Implement the `user_table_insert` query in `sql_queries.py` and run the cell below to insert records for the users in this log file into the `users` table. Remember to run `create_tables.py` before running the cell below to ensure you've created/resetted the `users` table in the sparkify database."
   ]
  },
  {
   "cell_type": "code",
   "execution_count": null,
   "metadata": {},
   "outputs": [],
   "source": [
    "for i, row in user_df.iterrows():\n",
    "    cur.execute(user_table_insert, row)\n",
    "    conn.commit()"
   ]
  },
  {
   "cell_type": "markdown",
   "metadata": {},
   "source": [
    "Run `test.ipynb` to see if you've successfully added records to this table."
   ]
  },
  {
   "cell_type": "markdown",
   "metadata": {},
   "source": [
    "## #5: `songplays` Table\n",
    "#### Extract Data and Songplays Table\n",
    "This one is a little more complicated since information from the songs table, artists table, and original log file are all needed for the `songplays` table. Since the log file does not specify an ID for either the song or the artist, you'll need to get the song ID and artist ID by querying the songs and artists tables to find matches based on song title, artist name, and song duration time.\n",
    "- Implement the `song_select` query in `sql_queries.py` to find the song ID and artist ID based on the title, artist name, and duration of a song.\n",
    "- Select the timestamp, user ID, level, song ID, artist ID, session ID, location, and user agent and set to `songplay_data`\n",
    "\n",
    "#### Insert Records into Songplays Table\n",
    "- Implement the `songplay_table_insert` query and run the cell below to insert records for the songplay actions in this log file into the `songplays` table. Remember to run `create_tables.py` before running the cell below to ensure you've created/resetted the `songplays` table in the sparkify database."
   ]
  },
  {
   "cell_type": "code",
   "execution_count": null,
   "metadata": {},
   "outputs": [],
   "source": [
    "for index, row in df.iterrows():\n",
    "\n",
    "    # get songid and artistid from song and artist tables\n",
    "    cur.execute(song_select, (row.song, row.artist, row.length))\n",
    "    results = cur.fetchone()\n",
    "    \n",
    "    if results:\n",
    "        songid, artistid = results\n",
    "    else:\n",
    "        songid, artistid = None, None\n",
    "\n",
    "    # insert songplay record\n",
    "    songplay_data = ()\n",
    "    cur.execute(songplay_table_insert, songplay_data)\n",
    "    conn.commit()"
   ]
  },
  {
   "cell_type": "markdown",
   "metadata": {},
   "source": [
    "Run `test.ipynb` to see if you've successfully added records to this table."
   ]
  },
  {
   "cell_type": "markdown",
   "metadata": {},
   "source": [
    "# Close Connection to Sparkify Database"
   ]
  },
  {
   "cell_type": "code",
   "execution_count": null,
   "metadata": {},
   "outputs": [],
   "source": [
    "conn.close()"
   ]
  },
  {
   "cell_type": "markdown",
   "metadata": {},
   "source": [
    "# Implement `etl.py`\n",
    "Use what you've completed in this notebook to implement `etl.py`."
   ]
  },
  {
   "cell_type": "code",
   "execution_count": null,
   "metadata": {},
   "outputs": [],
   "source": []
  }
 ],
 "metadata": {
  "kernelspec": {
   "display_name": "Python 3.7.6 64-bit ('base': conda)",
   "language": "python",
   "name": "python37664bitbasecondac1c0db13b1914f1bbec2f558c7e728c6"
  },
  "language_info": {
   "codemirror_mode": {
    "name": "ipython",
    "version": 3
   },
   "file_extension": ".py",
   "mimetype": "text/x-python",
   "name": "python",
   "nbconvert_exporter": "python",
   "pygments_lexer": "ipython3",
   "version": "3.7.6-final"
  }
 },
 "nbformat": 4,
 "nbformat_minor": 4
}